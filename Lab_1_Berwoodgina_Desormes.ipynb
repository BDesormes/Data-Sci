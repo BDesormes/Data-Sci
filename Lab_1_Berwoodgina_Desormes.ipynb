{
  "nbformat": 4,
  "nbformat_minor": 0,
  "metadata": {
    "colab": {
      "provenance": [],
      "collapsed_sections": [],
      "authorship_tag": "ABX9TyOYmqZMYNgzv5LnZ4Oou1uJ",
      "include_colab_link": true
    },
    "kernelspec": {
      "name": "python3",
      "display_name": "Python 3"
    },
    "language_info": {
      "name": "python"
    }
  },
  "cells": [
    {
      "cell_type": "markdown",
      "metadata": {
        "id": "view-in-github",
        "colab_type": "text"
      },
      "source": [
        "<a href=\"https://colab.research.google.com/github/BDesormes/Data-Sci/blob/main/Lab_1_Berwoodgina_Desormes.ipynb\" target=\"_parent\"><img src=\"https://colab.research.google.com/assets/colab-badge.svg\" alt=\"Open In Colab\"/></a>"
      ]
    },
    {
      "cell_type": "markdown",
      "source": [
        "Berwoodgina Desormes"
      ],
      "metadata": {
        "id": "UmVziFIaAdBW"
      }
    },
    {
      "cell_type": "markdown",
      "source": [
        "#Lab 1 Notebook"
      ],
      "metadata": {
        "id": "8NeQzvNMxFmx"
      }
    },
    {
      "cell_type": "code",
      "source": [
        "2+2 #python code for \"2+2\""
      ],
      "metadata": {
        "colab": {
          "base_uri": "https://localhost:8080/"
        },
        "id": "9S4KTEt8xIBj",
        "outputId": "a1088b2c-4c70-4e2b-ed7c-51a2c55d5d75"
      },
      "execution_count": 220,
      "outputs": [
        {
          "output_type": "execute_result",
          "data": {
            "text/plain": [
              "4"
            ]
          },
          "metadata": {},
          "execution_count": 220
        }
      ]
    },
    {
      "cell_type": "code",
      "source": [
        "2*24  #python code for \"2*24\""
      ],
      "metadata": {
        "colab": {
          "base_uri": "https://localhost:8080/"
        },
        "id": "EO6Q_htgxJey",
        "outputId": "07e4779e-4216-4ed8-d495-46c534176637"
      },
      "execution_count": 221,
      "outputs": [
        {
          "output_type": "execute_result",
          "data": {
            "text/plain": [
              "48"
            ]
          },
          "metadata": {},
          "execution_count": 221
        }
      ]
    },
    {
      "cell_type": "code",
      "source": [
        "2**8  #python code for $y=2^8$"
      ],
      "metadata": {
        "colab": {
          "base_uri": "https://localhost:8080/"
        },
        "id": "wm-KMZH4xJuK",
        "outputId": "dd8fcf91-f587-4278-ea0f-5e0db1e479e2"
      },
      "execution_count": 222,
      "outputs": [
        {
          "output_type": "execute_result",
          "data": {
            "text/plain": [
              "256"
            ]
          },
          "metadata": {},
          "execution_count": 222
        }
      ]
    },
    {
      "cell_type": "code",
      "source": [
        "2**12345 #python code for $y=2^12345$"
      ],
      "metadata": {
        "colab": {
          "base_uri": "https://localhost:8080/"
        },
        "id": "-26Pci-PxKAK",
        "outputId": "c8daefe6-753d-4d2f-f0dc-3a523f593ee5"
      },
      "execution_count": 223,
      "outputs": [
        {
          "output_type": "execute_result",
          "data": {
            "text/plain": [
              "164171010688258216356020741663906501410127235530735881272116103087925094171390144280159034536439457734870419127140401667195510331085657185332721089236401193044493457116299768844344303479235489462436380672117015123283299131391904179287678259173308536738761981139958654880852234908448338817289014166774169869251339379828599748492918775437864739032217778051333882990074116246281269364933724892342134504702491040016637557429810893780765197418589477584716543480995722533317862352141459217781316266211186486157019262080414077670264642736018426998113523445732680856144329876972273300703392584997729207197971083945700345494092400147186997307012069454068489589035676979448169848060836924945824197706493306108258511936030341393221586423523264452449403781993352421885094664052270795527632721896121424813173522474674395886155092203404036730748474781710715745446135468098139831824083259647919175273503681561172684624283384438504776503000432241604550454374116320822227191911322123484085063926350606342197146407841178028071147192533942517270553513988142925976090769695456221159699052583533011331652079347093098173086975483539274464023357456484465482927479569437320368592222760278170306076733438801098370797675711274671054970711442158930561684343135774118741594506702833147396758825015850042983343690345185995956235143825771620543546030664562647854656431302644574119873820215595718618624485232422006575550007068883734241454686368856734496265385908809403972494685137741122866896719678053937285818409751670320140501843039224040735870096889596273419106389103662095318937990625980136711988237421962315266686856089505981438440850638067589321141759499017023839596858455548192000140085142294166987063499024792681334843159790936321351919859758669569200541507612099780909705198902176026219872201715422096090343686272984351441594569506778041062663266799342793856313801540959815845788584759033248828248561586450271172777240971795656082001848115815260930521663167480173886064019118572778281516735157779555888167787064432558595410843987446497881666288423233170060413025924629950477303342180149398926073618582715358742250388958231281694757980523791263699450732952325727664209947786063982561775327638504516918570101319391698412388607603742484414748268389669129118026878969735782286841116842656410574647607524418900720328045377993386279808768990376289424757351052369393977137871998119168898493037938756635621557623138404459266598837784229325799838782026060481496865561757031839002257091802876949248392744175669112242088439883248336310597001257385980776961529351198877747193531054956881808332177946751404038228718567911769630971553915410012677600002457982207465176670752102117002773980548089696530972476439694599881281812973217265853884727906535479745854085338851105144585481994156206497436745899944877732531412541279014300324594890623941145509856940982863769834430048120562966797907114102689879364945689860493474954538422367719507882513166051007352994068319251450666676648368200564329382998758875760414259654004977261309988267319806354856051784553990936610634733375984159028722378614984450255386315585631994503350002142910493190254825610707400589976364985748467955131077971641882672895854571236368282811336220769174784720113331269084746524204124263475054112841630933586166195036115696469686075600480420563557567616835633252622327172811002146392754445051182169805284630259703542633955126179520113059629914229833688535925729676778028406897316106101038469119090984567152591962365415039646394591503830797626339246986057077758611413664914168745375266786298141171496573941614387744125843685677063619782918759823106021054037757857761587472240835040580447360544029064930412569943169729238102162312218687930203068055400275795180972382856696655279408212344832"
            ]
          },
          "metadata": {},
          "execution_count": 223
        }
      ]
    },
    {
      "cell_type": "code",
      "source": [
        "# This is a comment"
      ],
      "metadata": {
        "id": "xO3p7PgnxxdO"
      },
      "execution_count": 224,
      "outputs": []
    },
    {
      "cell_type": "code",
      "source": [
        "8/4 #python code for 8/4"
      ],
      "metadata": {
        "colab": {
          "base_uri": "https://localhost:8080/"
        },
        "id": "oioeJLOwx6Pf",
        "outputId": "cd90c434-ec54-4fdf-a9ee-f70e4fbbc776"
      },
      "execution_count": 225,
      "outputs": [
        {
          "output_type": "execute_result",
          "data": {
            "text/plain": [
              "2.0"
            ]
          },
          "metadata": {},
          "execution_count": 225
        }
      ]
    },
    {
      "cell_type": "code",
      "source": [
        "\n",
        "8//4 #python code for 8/4 without a decimal"
      ],
      "metadata": {
        "colab": {
          "base_uri": "https://localhost:8080/"
        },
        "id": "eY-LVT1tx8pf",
        "outputId": "2249e252-e780-4888-966d-32c6236f197a"
      },
      "execution_count": 226,
      "outputs": [
        {
          "output_type": "execute_result",
          "data": {
            "text/plain": [
              "2"
            ]
          },
          "metadata": {},
          "execution_count": 226
        }
      ]
    },
    {
      "cell_type": "code",
      "source": [
        "13%12 #python code for 13%12 without the remainder"
      ],
      "metadata": {
        "colab": {
          "base_uri": "https://localhost:8080/"
        },
        "id": "i6t3XRrmx-dV",
        "outputId": "3986b36c-de57-4b9d-a2be-81b19bb69597"
      },
      "execution_count": 227,
      "outputs": [
        {
          "output_type": "execute_result",
          "data": {
            "text/plain": [
              "1"
            ]
          },
          "metadata": {},
          "execution_count": 227
        }
      ]
    },
    {
      "cell_type": "code",
      "source": [
        "22%12 #python code for 22%12 without the remainder"
      ],
      "metadata": {
        "colab": {
          "base_uri": "https://localhost:8080/"
        },
        "id": "eA9aKAX6yLq-",
        "outputId": "e84b438b-f794-4e4e-b2d2-ccbd5105172a"
      },
      "execution_count": 228,
      "outputs": [
        {
          "output_type": "execute_result",
          "data": {
            "text/plain": [
              "10"
            ]
          },
          "metadata": {},
          "execution_count": 228
        }
      ]
    },
    {
      "cell_type": "markdown",
      "source": [
        "#Variables"
      ],
      "metadata": {
        "id": "CyyXt6EnyUau"
      }
    },
    {
      "cell_type": "code",
      "source": [
        "apple = 5 #defined the variable \"apple\" equating to \"5\""
      ],
      "metadata": {
        "id": "7lu5lu9RzOLO"
      },
      "execution_count": 229,
      "outputs": []
    },
    {
      "cell_type": "code",
      "source": [
        "apple"
      ],
      "metadata": {
        "colab": {
          "base_uri": "https://localhost:8080/"
        },
        "id": "yq7pXPjbzQUt",
        "outputId": "4945f51a-bbbc-40c3-d89a-ecd88411e635"
      },
      "execution_count": 230,
      "outputs": [
        {
          "output_type": "execute_result",
          "data": {
            "text/plain": [
              "5"
            ]
          },
          "metadata": {},
          "execution_count": 230
        }
      ]
    },
    {
      "cell_type": "code",
      "source": [
        "orange= 8 #defined the variable \"orange\" equating to \"8\""
      ],
      "metadata": {
        "id": "-uRvhStlzQ69"
      },
      "execution_count": 231,
      "outputs": []
    },
    {
      "cell_type": "code",
      "source": [
        "orange"
      ],
      "metadata": {
        "colab": {
          "base_uri": "https://localhost:8080/"
        },
        "id": "WPUG1RK4zVqt",
        "outputId": "be78aa1d-2ce2-4ca6-a9a6-55befaa78fab"
      },
      "execution_count": 232,
      "outputs": [
        {
          "output_type": "execute_result",
          "data": {
            "text/plain": [
              "8"
            ]
          },
          "metadata": {},
          "execution_count": 232
        }
      ]
    },
    {
      "cell_type": "code",
      "source": [
        "total = apple +orange #calculating the total of the variables after it has been defined"
      ],
      "metadata": {
        "id": "UICcSoZgzWxd"
      },
      "execution_count": 233,
      "outputs": []
    },
    {
      "cell_type": "code",
      "source": [
        "total"
      ],
      "metadata": {
        "colab": {
          "base_uri": "https://localhost:8080/"
        },
        "id": "yQ03oFuYzbd9",
        "outputId": "f3b4aac5-4d4e-4fb7-d7a2-049f8a1584df"
      },
      "execution_count": 234,
      "outputs": [
        {
          "output_type": "execute_result",
          "data": {
            "text/plain": [
              "13"
            ]
          },
          "metadata": {},
          "execution_count": 234
        }
      ]
    },
    {
      "cell_type": "code",
      "source": [
        "apple**2 #calculating the variable \"apple\" squared"
      ],
      "metadata": {
        "colab": {
          "base_uri": "https://localhost:8080/"
        },
        "id": "7u_gcZxrzdNN",
        "outputId": "acbf2881-7797-4954-d06a-8b9855e3665f"
      },
      "execution_count": 235,
      "outputs": [
        {
          "output_type": "execute_result",
          "data": {
            "text/plain": [
              "25"
            ]
          },
          "metadata": {},
          "execution_count": 235
        }
      ]
    },
    {
      "cell_type": "code",
      "source": [
        "cost_per_apple=0.25 #defined the variable \"cost_per_apple\" equating to \"0.25\""
      ],
      "metadata": {
        "id": "wXO-yaYpzjm9"
      },
      "execution_count": 236,
      "outputs": []
    },
    {
      "cell_type": "code",
      "source": [
        "total_apple_cost= apple * cost_per_apple #defined the variable \"total_apple_cost\" equating to the product of the varible \"apple\" and the variable \"cost_per_apple\""
      ],
      "metadata": {
        "id": "o5TDamoazq1N"
      },
      "execution_count": 237,
      "outputs": []
    },
    {
      "cell_type": "code",
      "source": [
        "total_apple_cost"
      ],
      "metadata": {
        "colab": {
          "base_uri": "https://localhost:8080/"
        },
        "id": "GKf2OjX6z9_d",
        "outputId": "b634cc15-f260-41a0-dc37-c97eb3e2cd72"
      },
      "execution_count": 238,
      "outputs": [
        {
          "output_type": "execute_result",
          "data": {
            "text/plain": [
              "1.25"
            ]
          },
          "metadata": {},
          "execution_count": 238
        }
      ]
    },
    {
      "cell_type": "code",
      "source": [
        "cost_per_shirt=76 #defined the variable \"cost_per_shirt\" equating to \"76\""
      ],
      "metadata": {
        "id": "GL7dkn2g0BRt"
      },
      "execution_count": 239,
      "outputs": []
    },
    {
      "cell_type": "code",
      "source": [
        "cost_per_pants =20 #defined the variable \"cost_per_pants\" equating to \"20\""
      ],
      "metadata": {
        "id": "WYFr1AzL0S8d"
      },
      "execution_count": 240,
      "outputs": []
    },
    {
      "cell_type": "code",
      "source": [
        "cost_per_jacket=50 #defined the variable \"cost_per_jacket\" equating to \"50\""
      ],
      "metadata": {
        "id": "Wr-6A11g0X7t"
      },
      "execution_count": 241,
      "outputs": []
    },
    {
      "cell_type": "code",
      "source": [
        "shirts_sold=6 #defined the variable \"shirts_sold\" equating to \"6\""
      ],
      "metadata": {
        "id": "iOskZD3F0b2s"
      },
      "execution_count": 242,
      "outputs": []
    },
    {
      "cell_type": "code",
      "source": [
        "pants_sold=4 #defined the variable \"pants_sold\" equating to \"4\""
      ],
      "metadata": {
        "id": "IVhd2jtP0j6E"
      },
      "execution_count": 243,
      "outputs": []
    },
    {
      "cell_type": "code",
      "source": [
        "jackets_sold=18 #defined the variable \"jackets_sold\" equating to \"18\""
      ],
      "metadata": {
        "id": "Tq7z-MOs0nR0"
      },
      "execution_count": 244,
      "outputs": []
    },
    {
      "cell_type": "code",
      "source": [
        "total_sales= (cost_per_shirt*shirts_sold)+(cost_per_pants*pants_sold)+(cost_per_jacket*jackets_sold) #defined the variable \"total_sales\" as the sum of the product of \"cost_per_shirt\"&\"shirts_sold\" plus the product of \"cost_per_pants\"&\"pants_sold\" plus the product of \"cost_per_jacket\"&\"jackets_sold\""
      ],
      "metadata": {
        "id": "kQleFhZ10pzD"
      },
      "execution_count": 245,
      "outputs": []
    },
    {
      "cell_type": "code",
      "source": [
        "total_sales #amount in dollars"
      ],
      "metadata": {
        "colab": {
          "base_uri": "https://localhost:8080/"
        },
        "id": "iGmdSus51A4x",
        "outputId": "bc58b82f-b148-498c-a6d9-9685a03649ff"
      },
      "execution_count": 246,
      "outputs": [
        {
          "output_type": "execute_result",
          "data": {
            "text/plain": [
              "1436"
            ]
          },
          "metadata": {},
          "execution_count": 246
        }
      ]
    },
    {
      "cell_type": "markdown",
      "source": [
        "#Vectors"
      ],
      "metadata": {
        "id": "ZhakKwaw3W4c"
      }
    },
    {
      "cell_type": "code",
      "source": [
        "import numpy as np #tells python to bring the NumPy libraty into the current environment"
      ],
      "metadata": {
        "id": "er3vlv1l3hXb"
      },
      "execution_count": 247,
      "outputs": []
    },
    {
      "cell_type": "code",
      "source": [
        "import matplotlib.pyplot as plt #is a python library that helps to plot graph"
      ],
      "metadata": {
        "id": "HRcjfLq73jmT"
      },
      "execution_count": 248,
      "outputs": []
    },
    {
      "cell_type": "code",
      "source": [
        "np.arange(10) #creates an array with a range of 10"
      ],
      "metadata": {
        "colab": {
          "base_uri": "https://localhost:8080/"
        },
        "id": "GE8cxbc33pDi",
        "outputId": "6333e180-f76b-41e8-a92c-a0f63f5f110d"
      },
      "execution_count": 249,
      "outputs": [
        {
          "output_type": "execute_result",
          "data": {
            "text/plain": [
              "array([0, 1, 2, 3, 4, 5, 6, 7, 8, 9])"
            ]
          },
          "metadata": {},
          "execution_count": 249
        }
      ]
    },
    {
      "cell_type": "code",
      "source": [
        "x=np.arange(10) #defined the variable \"x\" as an array with a range of 10"
      ],
      "metadata": {
        "id": "oAplrCKP4Amj"
      },
      "execution_count": 250,
      "outputs": []
    },
    {
      "cell_type": "code",
      "source": [
        "x"
      ],
      "metadata": {
        "colab": {
          "base_uri": "https://localhost:8080/"
        },
        "id": "EXppWqiP4eaQ",
        "outputId": "d0fd83f3-bdf8-4805-dffa-e2f87ffabc0c"
      },
      "execution_count": 251,
      "outputs": [
        {
          "output_type": "execute_result",
          "data": {
            "text/plain": [
              "array([0, 1, 2, 3, 4, 5, 6, 7, 8, 9])"
            ]
          },
          "metadata": {},
          "execution_count": 251
        }
      ]
    },
    {
      "cell_type": "code",
      "source": [
        "x+1 #the sum of the variable \"x\" and 1"
      ],
      "metadata": {
        "colab": {
          "base_uri": "https://localhost:8080/"
        },
        "id": "nfRtNr624fRw",
        "outputId": "75c0869d-bedd-41de-86a7-86eeb8ece56f"
      },
      "execution_count": 252,
      "outputs": [
        {
          "output_type": "execute_result",
          "data": {
            "text/plain": [
              "array([ 1,  2,  3,  4,  5,  6,  7,  8,  9, 10])"
            ]
          },
          "metadata": {},
          "execution_count": 252
        }
      ]
    },
    {
      "cell_type": "code",
      "source": [
        "x*2 #the product of the variable \"x\" and 2"
      ],
      "metadata": {
        "colab": {
          "base_uri": "https://localhost:8080/"
        },
        "id": "Unpczq834mlg",
        "outputId": "1c07ad37-e8f7-4c7f-bee8-ba93e20157ba"
      },
      "execution_count": 253,
      "outputs": [
        {
          "output_type": "execute_result",
          "data": {
            "text/plain": [
              "array([ 0,  2,  4,  6,  8, 10, 12, 14, 16, 18])"
            ]
          },
          "metadata": {},
          "execution_count": 253
        }
      ]
    },
    {
      "cell_type": "code",
      "source": [
        "x**2 #the product of the variable \"x\" squared"
      ],
      "metadata": {
        "colab": {
          "base_uri": "https://localhost:8080/"
        },
        "id": "t_zexXFk4wLT",
        "outputId": "1109be97-295f-466f-f7e0-c7ee932a25e8"
      },
      "execution_count": 254,
      "outputs": [
        {
          "output_type": "execute_result",
          "data": {
            "text/plain": [
              "array([ 0,  1,  4,  9, 16, 25, 36, 49, 64, 81])"
            ]
          },
          "metadata": {},
          "execution_count": 254
        }
      ]
    },
    {
      "cell_type": "code",
      "source": [
        "y=3*x+5 #defined the variable \"y\" equating to \"3x+5\""
      ],
      "metadata": {
        "id": "0ZgArYkN4zoD"
      },
      "execution_count": 255,
      "outputs": []
    },
    {
      "cell_type": "code",
      "source": [
        "x"
      ],
      "metadata": {
        "colab": {
          "base_uri": "https://localhost:8080/"
        },
        "id": "2d174OQK44Qy",
        "outputId": "3697ade5-4dae-434b-96f6-dda307242089"
      },
      "execution_count": 256,
      "outputs": [
        {
          "output_type": "execute_result",
          "data": {
            "text/plain": [
              "array([0, 1, 2, 3, 4, 5, 6, 7, 8, 9])"
            ]
          },
          "metadata": {},
          "execution_count": 256
        }
      ]
    },
    {
      "cell_type": "code",
      "source": [
        "y"
      ],
      "metadata": {
        "colab": {
          "base_uri": "https://localhost:8080/"
        },
        "id": "SmdDvhzl49hD",
        "outputId": "be135933-2b64-402a-c5fc-708eebb91532"
      },
      "execution_count": 257,
      "outputs": [
        {
          "output_type": "execute_result",
          "data": {
            "text/plain": [
              "array([ 5,  8, 11, 14, 17, 20, 23, 26, 29, 32])"
            ]
          },
          "metadata": {},
          "execution_count": 257
        }
      ]
    },
    {
      "cell_type": "code",
      "source": [
        "plt.plot(x,y) #plotted the graph of (x,y) as a line graph"
      ],
      "metadata": {
        "colab": {
          "base_uri": "https://localhost:8080/",
          "height": 282
        },
        "id": "Xs72TrQI49-y",
        "outputId": "9c598d76-8c59-47dc-bbca-9392110bec3b"
      },
      "execution_count": 258,
      "outputs": [
        {
          "output_type": "execute_result",
          "data": {
            "text/plain": [
              "[<matplotlib.lines.Line2D at 0x7fa774be4890>]"
            ]
          },
          "metadata": {},
          "execution_count": 258
        },
        {
          "output_type": "display_data",
          "data": {
            "text/plain": [
              "<Figure size 432x288 with 1 Axes>"
            ],
            "image/png": "[encoded data removed]"
          },
          "metadata": {
            "needs_background": "light"
          }
        }
      ]
    },
    {
      "cell_type": "code",
      "source": [
        "plt.plot(x,y,'.') #plotted the graph of (x,y) as a scatter plot"
      ],
      "metadata": {
        "colab": {
          "base_uri": "https://localhost:8080/",
          "height": 282
        },
        "id": "JN6OLOL95Lb0",
        "outputId": "58ac66f7-45fb-4a74-eef2-447676b8b85f"
      },
      "execution_count": 259,
      "outputs": [
        {
          "output_type": "execute_result",
          "data": {
            "text/plain": [
              "[<matplotlib.lines.Line2D at 0x7fa77443c190>]"
            ]
          },
          "metadata": {},
          "execution_count": 259
        },
        {
          "output_type": "display_data",
          "data": {
            "text/plain": [
              "<Figure size 432x288 with 1 Axes>"
            ],
            "image/png": "[encoded data removed]"
          },
          "metadata": {
            "needs_background": "light"
          }
        }
      ]
    },
    {
      "cell_type": "code",
      "source": [
        "plt.plot(x,y,'r.') #plotted the graph of (x,y) as a scatter plot with red dots"
      ],
      "metadata": {
        "colab": {
          "base_uri": "https://localhost:8080/",
          "height": 282
        },
        "id": "K6K5tjyb5g4V",
        "outputId": "a0cb9fba-1286-40af-f1fb-1e8d09479cdb"
      },
      "execution_count": 260,
      "outputs": [
        {
          "output_type": "execute_result",
          "data": {
            "text/plain": [
              "[<matplotlib.lines.Line2D at 0x7fa774302bd0>]"
            ]
          },
          "metadata": {},
          "execution_count": 260
        },
        {
          "output_type": "display_data",
          "data": {
            "text/plain": [
              "<Figure size 432x288 with 1 Axes>"
            ],
            "image/png": "[encoded data removed]"
          },
          "metadata": {
            "needs_background": "light"
          }
        }
      ]
    },
    {
      "cell_type": "code",
      "source": [
        "plt.plot(x,y,'r--') #plotted the graph of (x,y) as a broken line graph with the lines in red"
      ],
      "metadata": {
        "colab": {
          "base_uri": "https://localhost:8080/",
          "height": 282
        },
        "id": "tliCfvgc6LHH",
        "outputId": "0d9aebb7-13aa-4dd0-b876-c184c924958f"
      },
      "execution_count": 261,
      "outputs": [
        {
          "output_type": "execute_result",
          "data": {
            "text/plain": [
              "[<matplotlib.lines.Line2D at 0x7fa7744021d0>]"
            ]
          },
          "metadata": {},
          "execution_count": 261
        },
        {
          "output_type": "display_data",
          "data": {
            "text/plain": [
              "<Figure size 432x288 with 1 Axes>"
            ],
            "image/png": "[encoded data removed]"
          },
          "metadata": {
            "needs_background": "light"
          }
        }
      ]
    },
    {
      "cell_type": "code",
      "source": [
        "plt.plot(x,y,'b.') #plotted the graph of (x,y) as a scatter plot with the dots blue"
      ],
      "metadata": {
        "colab": {
          "base_uri": "https://localhost:8080/",
          "height": 282
        },
        "id": "qolzaoft6Odn",
        "outputId": "591f0d77-303b-47ae-cd81-7e0bf5cb48eb"
      },
      "execution_count": 262,
      "outputs": [
        {
          "output_type": "execute_result",
          "data": {
            "text/plain": [
              "[<matplotlib.lines.Line2D at 0x7fa771cc1d90>]"
            ]
          },
          "metadata": {},
          "execution_count": 262
        },
        {
          "output_type": "display_data",
          "data": {
            "text/plain": [
              "<Figure size 432x288 with 1 Axes>"
            ],
            "image/png": "[encoded data removed]"
          },
          "metadata": {
            "needs_background": "light"
          }
        }
      ]
    },
    {
      "cell_type": "code",
      "source": [
        "plt.plot(x,y,'b--') #plotted the graph of (x,y) as a broken line graph with the lines blue"
      ],
      "metadata": {
        "colab": {
          "base_uri": "https://localhost:8080/",
          "height": 282
        },
        "id": "VhqjxdCc7CsX",
        "outputId": "0dbec113-d107-4eed-8e1e-41b898642aa8"
      },
      "execution_count": 263,
      "outputs": [
        {
          "output_type": "execute_result",
          "data": {
            "text/plain": [
              "[<matplotlib.lines.Line2D at 0x7fa771c36050>]"
            ]
          },
          "metadata": {},
          "execution_count": 263
        },
        {
          "output_type": "display_data",
          "data": {
            "text/plain": [
              "<Figure size 432x288 with 1 Axes>"
            ],
            "image/png": "[encoded data removed]"
          },
          "metadata": {
            "needs_background": "light"
          }
        }
      ]
    },
    {
      "cell_type": "code",
      "source": [
        "plt.plot(x,y,'g.') #plotted the graph of (x,y) as a scatter plot with the dots green"
      ],
      "metadata": {
        "colab": {
          "base_uri": "https://localhost:8080/",
          "height": 282
        },
        "id": "AWug-LMP7EvX",
        "outputId": "f233c399-2a6b-4255-dc70-7576ea11b958"
      },
      "execution_count": 264,
      "outputs": [
        {
          "output_type": "execute_result",
          "data": {
            "text/plain": [
              "[<matplotlib.lines.Line2D at 0x7fa771c1c290>]"
            ]
          },
          "metadata": {},
          "execution_count": 264
        },
        {
          "output_type": "display_data",
          "data": {
            "text/plain": [
              "<Figure size 432x288 with 1 Axes>"
            ],
            "image/png": "[encoded data removed]"
          },
          "metadata": {
            "needs_background": "light"
          }
        }
      ]
    },
    {
      "cell_type": "code",
      "source": [
        "plt.plot(x,y,'g--') #plotted the graph of (x,y) as a broken line graph with the lines green"
      ],
      "metadata": {
        "colab": {
          "base_uri": "https://localhost:8080/",
          "height": 282
        },
        "id": "5lfHhkHF7G2H",
        "outputId": "0e162896-f197-4e15-cf31-0a1e59353dd3"
      },
      "execution_count": 265,
      "outputs": [
        {
          "output_type": "execute_result",
          "data": {
            "text/plain": [
              "[<matplotlib.lines.Line2D at 0x7fa771b844d0>]"
            ]
          },
          "metadata": {},
          "execution_count": 265
        },
        {
          "output_type": "display_data",
          "data": {
            "text/plain": [
              "<Figure size 432x288 with 1 Axes>"
            ],
            "image/png": "[encoded data removed]"
          },
          "metadata": {
            "needs_background": "light"
          }
        }
      ]
    },
    {
      "cell_type": "code",
      "source": [
        "plt.plot(x,y,'m.') #plotted the graph of (x,y) as a scatter plot with the dots magenta"
      ],
      "metadata": {
        "colab": {
          "base_uri": "https://localhost:8080/",
          "height": 282
        },
        "id": "uEIg25S27J8n",
        "outputId": "ac265385-022c-46b3-e8e4-5db3f25982d9"
      },
      "execution_count": 266,
      "outputs": [
        {
          "output_type": "execute_result",
          "data": {
            "text/plain": [
              "[<matplotlib.lines.Line2D at 0x7fa771b6c710>]"
            ]
          },
          "metadata": {},
          "execution_count": 266
        },
        {
          "output_type": "display_data",
          "data": {
            "text/plain": [
              "<Figure size 432x288 with 1 Axes>"
            ],
            "image/png": "[encoded data removed]"
          },
          "metadata": {
            "needs_background": "light"
          }
        }
      ]
    },
    {
      "cell_type": "code",
      "source": [
        "plt.plot(x,y,marker='o',   #plotted the graph of (x,y) as a scatter plot with larger dots and with a specific html color code\n",
        "            linestyle='none',\n",
        "            markerfacecolor='#F6BCE6')"
      ],
      "metadata": {
        "colab": {
          "base_uri": "https://localhost:8080/",
          "height": 282
        },
        "id": "eNMGaLqs9MCi",
        "outputId": "c262193c-8418-4292-a6b1-86309b855b88"
      },
      "execution_count": 267,
      "outputs": [
        {
          "output_type": "execute_result",
          "data": {
            "text/plain": [
              "[<matplotlib.lines.Line2D at 0x7fa771ad3b10>]"
            ]
          },
          "metadata": {},
          "execution_count": 267
        },
        {
          "output_type": "display_data",
          "data": {
            "text/plain": [
              "<Figure size 432x288 with 1 Axes>"
            ],
            "image/png": "[encoded data removed]"
          },
          "metadata": {
            "needs_background": "light"
          }
        }
      ]
    },
    {
      "cell_type": "code",
      "source": [
        "x=np.linspace(0,5,10) #defined the variable \"x\" as an evenly spaced sequence of (0,5,10)"
      ],
      "metadata": {
        "id": "ojaB3JNN9aGK"
      },
      "execution_count": 268,
      "outputs": []
    },
    {
      "cell_type": "code",
      "source": [
        "x"
      ],
      "metadata": {
        "colab": {
          "base_uri": "https://localhost:8080/"
        },
        "id": "6J44fmYP9iVZ",
        "outputId": "a24d1695-437b-404f-ab47-0dbe8310501e"
      },
      "execution_count": 269,
      "outputs": [
        {
          "output_type": "execute_result",
          "data": {
            "text/plain": [
              "array([0.        , 0.55555556, 1.11111111, 1.66666667, 2.22222222,\n",
              "       2.77777778, 3.33333333, 3.88888889, 4.44444444, 5.        ])"
            ]
          },
          "metadata": {},
          "execution_count": 269
        }
      ]
    },
    {
      "cell_type": "code",
      "source": [
        "x=np.linspace(0,10,100) #defined the variable \"x\" as an evenly spaced sequence of (0,10,100)"
      ],
      "metadata": {
        "id": "Q0_YLq5J9k-5"
      },
      "execution_count": 270,
      "outputs": []
    },
    {
      "cell_type": "code",
      "source": [
        "y=x**2 #defined the variable \"y\" as the variable \"x\" squared"
      ],
      "metadata": {
        "id": "AYGMKKli9yQa"
      },
      "execution_count": 271,
      "outputs": []
    },
    {
      "cell_type": "code",
      "source": [
        "plt.plot(x,y,marker='o',   #plotted the graph of (x,y) as a scatter plot with larger dots with the specific HTML color code \"#F6BCE6\"\n",
        "            linestyle='none',\n",
        "            markerfacecolor='#F6BCE6')"
      ],
      "metadata": {
        "colab": {
          "base_uri": "https://localhost:8080/",
          "height": 282
        },
        "outputId": "534a91be-fde6-4ab9-86d2-30ea77268509",
        "id": "JYXo7nZK95hw"
      },
      "execution_count": 272,
      "outputs": [
        {
          "output_type": "execute_result",
          "data": {
            "text/plain": [
              "[<matplotlib.lines.Line2D at 0x7fa771a44c10>]"
            ]
          },
          "metadata": {},
          "execution_count": 272
        },
        {
          "output_type": "display_data",
          "data": {
            "text/plain": [
              "<Figure size 432x288 with 1 Axes>"
            ],
            "image/png": "[encoded data removed]"
          },
          "metadata": {
            "needs_background": "light"
          }
        }
      ]
    },
    {
      "cell_type": "code",
      "source": [
        "plt.plot(x,y,marker='o',linestyle='none',markerfacecolor='#F6BCE6')"
      ],
      "metadata": {
        "colab": {
          "base_uri": "https://localhost:8080/",
          "height": 282
        },
        "outputId": "23bccb7c-6296-4d09-df95-6b5dc0d38292",
        "id": "DaBQVns_-gpT"
      },
      "execution_count": 273,
      "outputs": [
        {
          "output_type": "execute_result",
          "data": {
            "text/plain": [
              "[<matplotlib.lines.Line2D at 0x7fa7719b4690>]"
            ]
          },
          "metadata": {},
          "execution_count": 273
        },
        {
          "output_type": "display_data",
          "data": {
            "text/plain": [
              "<Figure size 432x288 with 1 Axes>"
            ],
            "image/png": "[encoded data removed]"
          },
          "metadata": {
            "needs_background": "light"
          }
        }
      ]
    },
    {
      "cell_type": "code",
      "source": [
        "plt.plot(x,y,marker='o',linestyle='none',markerfacecolor='#F6BCE6')\n",
        "plt.title('My First Graph'); #titled the graph "
      ],
      "metadata": {
        "colab": {
          "base_uri": "https://localhost:8080/",
          "height": 281
        },
        "id": "E1f7JgzJ-oXq",
        "outputId": "96eb6e87-29c5-4dd9-d661-326646f0f266"
      },
      "execution_count": 274,
      "outputs": [
        {
          "output_type": "display_data",
          "data": {
            "text/plain": [
              "<Figure size 432x288 with 1 Axes>"
            ],
            "image/png": "[encoded data removed]"
          },
          "metadata": {
            "needs_background": "light"
          }
        }
      ]
    },
    {
      "cell_type": "code",
      "source": [
        "plt.plot(x,y,marker='o',linestyle='none',markerfacecolor='#F6BCE6')\n",
        "plt.title('My First Graph');\n",
        "plt.xlabel('X axis label goes here'); #x axis label\n",
        "plt.ylabel('Y axis label goes here'); #y axis label"
      ],
      "metadata": {
        "colab": {
          "base_uri": "https://localhost:8080/",
          "height": 295
        },
        "outputId": "12d5d092-e466-46a7-83a4-c1823b5f0bb0",
        "id": "AmYPTlgl_6ae"
      },
      "execution_count": 284,
      "outputs": [
        {
          "output_type": "display_data",
          "data": {
            "text/plain": [
              "<Figure size 432x288 with 1 Axes>"
            ],
            "image/png": "[encoded data removed]"
          },
          "metadata": {
            "needs_background": "light"
          }
        }
      ]
    },
    {
      "cell_type": "code",
      "source": [
        "plt.plot(x,y,marker='o',linestyle='none',markerfacecolor='#F6BCE6', label = \"Graph of x squared\")\n",
        "plt.title('My First Graph');\n",
        "plt.xlabel('X axis label goes here');\n",
        "plt.ylabel('Y axis label goes here');\n",
        "plt.legend() #creates a chart legend"
      ],
      "metadata": {
        "colab": {
          "base_uri": "https://localhost:8080/",
          "height": 312
        },
        "outputId": "6c0edf69-f0fc-46b9-9aa8-1bd6ac49e042",
        "id": "OZtt_1whA_h3"
      },
      "execution_count": 276,
      "outputs": [
        {
          "output_type": "execute_result",
          "data": {
            "text/plain": [
              "<matplotlib.legend.Legend at 0x7fa774108790>"
            ]
          },
          "metadata": {},
          "execution_count": 276
        },
        {
          "output_type": "display_data",
          "data": {
            "text/plain": [
              "<Figure size 432x288 with 1 Axes>"
            ],
            "image/png": "[encoded data removed]"
          },
          "metadata": {
            "needs_background": "light"
          }
        }
      ]
    },
    {
      "cell_type": "code",
      "source": [
        "x=np.linspace(0,2,100) #creates 3 line graphs within one graph\n",
        "plt.plot(x,x, label=\"linear\")\n",
        "plt.plot(x,x**2, label=\"squared\")\n",
        "plt.plot(x,x**3, label=\"cubed\")\n",
        "plt.legend()"
      ],
      "metadata": {
        "colab": {
          "base_uri": "https://localhost:8080/",
          "height": 282
        },
        "id": "8twuk8qwBJGs",
        "outputId": "dc8377ea-6578-4629-c97d-9c5d1b49214b"
      },
      "execution_count": 277,
      "outputs": [
        {
          "output_type": "execute_result",
          "data": {
            "text/plain": [
              "<matplotlib.legend.Legend at 0x7fa771840150>"
            ]
          },
          "metadata": {},
          "execution_count": 277
        },
        {
          "output_type": "display_data",
          "data": {
            "text/plain": [
              "<Figure size 432x288 with 1 Axes>"
            ],
            "image/png": "[encoded data removed]"
          },
          "metadata": {
            "needs_background": "light"
          }
        }
      ]
    },
    {
      "cell_type": "code",
      "source": [
        "x=np.linspace(0,2,100)\n",
        "plt.plot(x,x,    'r--',  label=\"linear\") #this line graph is red dashes\n",
        "plt.plot(x,x**2, 'bs',   label=\"squared\") #this line graph is blue squares\n",
        "plt.plot(x,x**3, 'g^',   label=\"cubed\") #this line graph is green triangles\n",
        "plt.legend()"
      ],
      "metadata": {
        "colab": {
          "base_uri": "https://localhost:8080/",
          "height": 282
        },
        "id": "CVqwKs1GCgCF",
        "outputId": "27969cc0-cba6-47d6-f9a6-c19d887bdcf8"
      },
      "execution_count": 285,
      "outputs": [
        {
          "output_type": "execute_result",
          "data": {
            "text/plain": [
              "<matplotlib.legend.Legend at 0x7fa7716b94d0>"
            ]
          },
          "metadata": {},
          "execution_count": 285
        },
        {
          "output_type": "display_data",
          "data": {
            "text/plain": [
              "<Figure size 432x288 with 1 Axes>"
            ],
            "image/png": "[encoded data removed]"
          },
          "metadata": {
            "needs_background": "light"
          }
        }
      ]
    },
    {
      "cell_type": "code",
      "source": [
        "names = ['cat','dog','bird'] #defined the variable 'names' as ['cat','dog','bird']"
      ],
      "metadata": {
        "id": "rjqUVC1ZDjoA"
      },
      "execution_count": 279,
      "outputs": []
    },
    {
      "cell_type": "code",
      "source": [
        "values = [14,18,6] #defined the variable \"values\" as [14,18,6]"
      ],
      "metadata": {
        "id": "eJYZvzrhFGb8"
      },
      "execution_count": 280,
      "outputs": []
    },
    {
      "cell_type": "code",
      "source": [
        "names"
      ],
      "metadata": {
        "colab": {
          "base_uri": "https://localhost:8080/"
        },
        "id": "VEBnkKwgEtJ0",
        "outputId": "7fbb83cc-f744-4683-a7d3-2e6f132f6309"
      },
      "execution_count": 281,
      "outputs": [
        {
          "output_type": "execute_result",
          "data": {
            "text/plain": [
              "['cat', 'dog', 'bird']"
            ]
          },
          "metadata": {},
          "execution_count": 281
        }
      ]
    },
    {
      "cell_type": "code",
      "source": [
        "values"
      ],
      "metadata": {
        "colab": {
          "base_uri": "https://localhost:8080/"
        },
        "id": "RLgaHvl1EzVr",
        "outputId": "54e5092a-29ab-4125-c0ea-69aa91665cdf"
      },
      "execution_count": 282,
      "outputs": [
        {
          "output_type": "execute_result",
          "data": {
            "text/plain": [
              "[14, 18, 6]"
            ]
          },
          "metadata": {},
          "execution_count": 282
        }
      ]
    },
    {
      "cell_type": "code",
      "source": [
        "plt.figure(1, figsize=(9, 3)) #defines the size of the figures\n",
        "\n",
        "\n",
        "plt.subplot(131) #creates a bar graph of the names and values\n",
        "plt.bar(names, values)\n",
        "\n",
        "plt.subplot(132) #creates a scatter plot of the names and values\n",
        "plt.bar(names, values)\n",
        "plt.scatter(names, values)\n",
        "\n",
        "plt.subplot(133) #creates a line graph of the names and values\n",
        "plt.bar(names, values)\n",
        "plt.plot(names, values)\n",
        "\n",
        "\n",
        "plt.suptitle('Categorical Plotting') #the title of the 3 graphs\n",
        "plt.show()"
      ],
      "metadata": {
        "colab": {
          "base_uri": "https://localhost:8080/",
          "height": 233
        },
        "id": "7wSWCDlHFA4y",
        "outputId": "88aebe38-69d0-41f8-c7fb-7ba59dd65dc3"
      },
      "execution_count": 286,
      "outputs": [
        {
          "output_type": "display_data",
          "data": {
            "text/plain": [
              "<Figure size 648x216 with 3 Axes>"
            ],
            "image/png": "[encoded data removed]"
          },
          "metadata": {
            "needs_background": "light"
          }
        }
      ]
    },
    {
      "cell_type": "markdown",
      "source": [
        "<img src = \"https://www.santosfood.com/wp-content/uploads/2020/01/img-7.jpg'\" width = 200 > \n"
      ],
      "metadata": {
        "id": "epO_ZPMLZKQx"
      }
    },
    {
      "cell_type": "markdown",
      "source": [
        "$\\frac{a}{b}$"
      ],
      "metadata": {
        "id": "U4f4mv3dbn4W"
      }
    },
    {
      "cell_type": "markdown",
      "source": [
        "$f(x)= \\frac{1}{\\sigma\\sqrt{2\\pi}}e^{-\\frac{1}{2}(\\frac{X-\\mu}{\\sigma})^2}$"
      ],
      "metadata": {
        "id": "EDjhGgjnbww9"
      }
    },
    {
      "cell_type": "markdown",
      "source": [
        "#Exercises"
      ],
      "metadata": {
        "id": "aD5OO1dgXDg5"
      }
    },
    {
      "cell_type": "markdown",
      "source": [
        "Plot the following functions from  x=−10  to  x=10"
      ],
      "metadata": {
        "id": "MMXqkVMwXOV7"
      }
    },
    {
      "cell_type": "markdown",
      "source": [
        "y=10x+7"
      ],
      "metadata": {
        "id": "GusAAdD7XdSo"
      }
    },
    {
      "cell_type": "code",
      "source": [
        "import numpy as np\n",
        "import matplotlib.pyplot as plt"
      ],
      "metadata": {
        "id": "VbyLam_0XPXF"
      },
      "execution_count": 287,
      "outputs": []
    },
    {
      "cell_type": "code",
      "source": [
        "x=np.arange(-10,10)"
      ],
      "metadata": {
        "id": "L08Znf-gdTTv"
      },
      "execution_count": 288,
      "outputs": []
    },
    {
      "cell_type": "code",
      "source": [
        "\n",
        "x"
      ],
      "metadata": {
        "colab": {
          "base_uri": "https://localhost:8080/"
        },
        "id": "b684DVB_ccCP",
        "outputId": "d3518a67-ea01-44ba-8bb3-db2c38bd8b28"
      },
      "execution_count": 289,
      "outputs": [
        {
          "output_type": "execute_result",
          "data": {
            "text/plain": [
              "array([-10,  -9,  -8,  -7,  -6,  -5,  -4,  -3,  -2,  -1,   0,   1,   2,\n",
              "         3,   4,   5,   6,   7,   8,   9])"
            ]
          },
          "metadata": {},
          "execution_count": 289
        }
      ]
    },
    {
      "cell_type": "code",
      "source": [
        "y=10*x+7"
      ],
      "metadata": {
        "id": "fm38IhFLdIyF"
      },
      "execution_count": 290,
      "outputs": []
    },
    {
      "cell_type": "code",
      "source": [
        "plt.plot(x,y)\n",
        "plt.title(\"Graph of y=10x+7\");\n",
        "plt.show();"
      ],
      "metadata": {
        "colab": {
          "base_uri": "https://localhost:8080/",
          "height": 281
        },
        "id": "dz9TatEUdxUK",
        "outputId": "36fba429-0401-4e30-a990-54d1258104ea"
      },
      "execution_count": 291,
      "outputs": [
        {
          "output_type": "display_data",
          "data": {
            "text/plain": [
              "<Figure size 432x288 with 1 Axes>"
            ],
            "image/png": "[encoded data removed]"
          },
          "metadata": {
            "needs_background": "light"
          }
        }
      ]
    },
    {
      "cell_type": "markdown",
      "source": [
        "*y=-3x-12*"
      ],
      "metadata": {
        "id": "cLC5xvLyY89D"
      }
    },
    {
      "cell_type": "code",
      "source": [
        "import numpy as np\n",
        "import matplotlib.pyplot as plt\n",
        "x=np.arange(-10,10)\n",
        "y=-3*x-12\n",
        "\n",
        "plt.plot(x,y)\n",
        "plt.title(\"Graph of y=-3x-12\")\n",
        "\n",
        "plt.show()"
      ],
      "metadata": {
        "colab": {
          "base_uri": "https://localhost:8080/",
          "height": 281
        },
        "id": "tDLJf7a0ZEwU",
        "outputId": "8de7a3b4-6f6a-49a2-82da-5600f06f6b05"
      },
      "execution_count": 292,
      "outputs": [
        {
          "output_type": "display_data",
          "data": {
            "text/plain": [
              "<Figure size 432x288 with 1 Axes>"
            ],
            "image/png": "[encoded data removed]"
          },
          "metadata": {
            "needs_background": "light"
          }
        }
      ]
    },
    {
      "cell_type": "markdown",
      "source": [
        "y=sin(x)"
      ],
      "metadata": {
        "id": "tCdIOg6IiCnl"
      }
    },
    {
      "cell_type": "code",
      "source": [
        "import numpy as np\n",
        "import matplotlib.pyplot as plt\n",
        "x=np.arange(-10,10)\n",
        "y=np.sin(x)\n",
        "\n",
        "plt.plot(x,y)\n",
        "plt.title(\"Graph of y=sin(x)\")\n",
        "\n",
        "plt.show()\n"
      ],
      "metadata": {
        "colab": {
          "base_uri": "https://localhost:8080/",
          "height": 281
        },
        "id": "21UORXrPa4Na",
        "outputId": "a73a63e2-f203-4d41-83fc-6d99a1eb5552"
      },
      "execution_count": 293,
      "outputs": [
        {
          "output_type": "display_data",
          "data": {
            "text/plain": [
              "<Figure size 432x288 with 1 Axes>"
            ],
            "image/png": "[encoded data removed]"
          },
          "metadata": {
            "needs_background": "light"
          }
        }
      ]
    },
    {
      "cell_type": "markdown",
      "source": [
        "$y=e^x$"
      ],
      "metadata": {
        "id": "dXhhqerci08w"
      }
    },
    {
      "cell_type": "code",
      "source": [
        "def E(x):\n",
        "  y= np.exp(x)\n",
        "  return y\n",
        "y=E(x)\n",
        "plt.plot(x,y)\n",
        "plt.title(\"Graph of $y=e^x$\")"
      ],
      "metadata": {
        "colab": {
          "base_uri": "https://localhost:8080/",
          "height": 300
        },
        "id": "NjHTq7a4i9uL",
        "outputId": "bcd726de-09d5-44c0-9986-3607f1418e81"
      },
      "execution_count": 294,
      "outputs": [
        {
          "output_type": "execute_result",
          "data": {
            "text/plain": [
              "Text(0.5, 1.0, 'Graph of $y=e^x$')"
            ]
          },
          "metadata": {},
          "execution_count": 294
        },
        {
          "output_type": "display_data",
          "data": {
            "text/plain": [
              "<Figure size 432x288 with 1 Axes>"
            ],
            "image/png": "[encoded data removed]"
          },
          "metadata": {
            "needs_background": "light"
          }
        }
      ]
    },
    {
      "cell_type": "markdown",
      "source": [
        "$y=e^{-x^2}$"
      ],
      "metadata": {
        "id": "_ES-j0OQlXK0"
      }
    },
    {
      "cell_type": "code",
      "source": [
        "import numpy as np\n",
        "import matplotlib.pyplot as plt\n",
        "x = np.arange(-10,10)\n",
        "y = np.exp(-x**2)\n",
        "\n",
        "plt.plot(x,y)\n",
        "plt.title(\"Graph of $y=e^{-x^2}$\")\n",
        "\n",
        "plt.show()"
      ],
      "metadata": {
        "colab": {
          "base_uri": "https://localhost:8080/",
          "height": 286
        },
        "id": "hLs6spTZlV-f",
        "outputId": "7a04b189-ed3b-4da6-9e84-5008677fa5d3"
      },
      "execution_count": 295,
      "outputs": [
        {
          "output_type": "display_data",
          "data": {
            "text/plain": [
              "<Figure size 432x288 with 1 Axes>"
            ],
            "image/png": "[encoded data removed]"
          },
          "metadata": {
            "needs_background": "light"
          }
        }
      ]
    },
    {
      "cell_type": "markdown",
      "source": [
        "Pick out a plot of your choice from here, copy the code to this notebook, run, and document to the best of your abilities"
      ],
      "metadata": {
        "id": "afgcaIFB0KyM"
      }
    },
    {
      "cell_type": "code",
      "source": [
        "import matplotlib.pyplot as plt\n",
        "\n",
        "data = {'apple': 10, 'orange': 15, 'lemon': 5, 'lime': 20} #defines the data\n",
        "names = list(data.keys())\n",
        "values = list(data.values())\n",
        "\n",
        "fig, axs = plt.subplots(1, 3, figsize=(9, 3), sharey=True) #calculates the figure size\n",
        "axs[0].bar(names, values) #creates a bar graph from the data\n",
        "axs[1].scatter(names, values) #creates a scatter plot from the data\n",
        "axs[2].plot(names, values) #creates a line graph from the data\n",
        "fig.suptitle('Categorical Plotting') #title of the graphs"
      ],
      "metadata": {
        "colab": {
          "base_uri": "https://localhost:8080/",
          "height": 250
        },
        "id": "iC5u_Q-b018n",
        "outputId": "ebaf21e2-4656-4879-9d12-e459a6de1373"
      },
      "execution_count": 296,
      "outputs": [
        {
          "output_type": "execute_result",
          "data": {
            "text/plain": [
              "Text(0.5, 0.98, 'Categorical Plotting')"
            ]
          },
          "metadata": {},
          "execution_count": 296
        },
        {
          "output_type": "display_data",
          "data": {
            "text/plain": [
              "<Figure size 648x216 with 3 Axes>"
            ],
            "image/png": "[encoded data removed]"
          },
          "metadata": {
            "needs_background": "light"
          }
        }
      ]
    },
    {
      "cell_type": "code",
      "source": [],
      "metadata": {
        "id": "b0OoVG321Y_v"
      },
      "execution_count": null,
      "outputs": []
    }
  ]
}