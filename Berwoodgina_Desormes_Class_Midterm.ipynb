{
  "nbformat": 4,
  "nbformat_minor": 0,
  "metadata": {
    "colab": {
      "provenance": [],
      "authorship_tag": "ABX9TyPmKDZ5wZweGwhEiOaoVO8S",
      "include_colab_link": true
    },
    "kernelspec": {
      "name": "python3",
      "display_name": "Python 3"
    },
    "language_info": {
      "name": "python"
    }
  },
  "cells": [
    {
      "cell_type": "markdown",
      "metadata": {
        "id": "view-in-github",
        "colab_type": "text"
      },
      "source": [
        "<a href=\"https://colab.research.google.com/github/BDesormes/Data-Sci/blob/main/Berwoodgina_Desormes_Class_Midterm.ipynb\" target=\"_parent\"><img src=\"https://colab.research.google.com/assets/colab-badge.svg\" alt=\"Open In Colab\"/></a>"
      ]
    },
    {
      "cell_type": "code",
      "execution_count": 1,
      "metadata": {
        "id": "qDUekAoqQ0Nq"
      },
      "outputs": [],
      "source": [
        "import numpy as np\n",
        "import matplotlib.pyplot as plt"
      ]
    },
    {
      "cell_type": "code",
      "source": [
        "X = np.array([12,9,20,7,2])   #data values of the x-axis, will print as an array\n",
        "Y = np.array([38,28,63,22,6]) #data valies of the y-axis, will print as an array"
      ],
      "metadata": {
        "id": "VNCnyhE_Q8P2"
      },
      "execution_count": 3,
      "outputs": []
    },
    {
      "cell_type": "code",
      "source": [
        "plt.plot(X,Y,'g.') #will print the data values as a scatter plot, with the points in green"
      ],
      "metadata": {
        "colab": {
          "base_uri": "https://localhost:8080/",
          "height": 282
        },
        "id": "VqIdIc8uRXds",
        "outputId": "8254a457-252e-4721-9744-c4ab29b637c5"
      },
      "execution_count": 5,
      "outputs": [
        {
          "output_type": "execute_result",
          "data": {
            "text/plain": [
              "[<matplotlib.lines.Line2D at 0x7f57310c9dd0>]"
            ]
          },
          "metadata": {},
          "execution_count": 5
        },
        {
          "output_type": "display_data",
          "data": {
            "text/plain": [
              "<Figure size 432x288 with 1 Axes>"
            ],
            "image/png": "[encoded data removed]"
          },
          "metadata": {
            "needs_background": "light"
          }
        }
      ]
    },
    {
      "cell_type": "code",
      "source": [
        "m_guess = 0 #inputs a guess on what m will be\n",
        "b_guess = 0 #inputs a guess on what b will be"
      ],
      "metadata": {
        "id": "9Bx509FQRuQh"
      },
      "execution_count": 8,
      "outputs": []
    },
    {
      "cell_type": "markdown",
      "source": [
        "$y$ =$mx + b$"
      ],
      "metadata": {
        "id": "HeFwQ0mXVz-x"
      }
    },
    {
      "cell_type": "code",
      "source": [
        "m_guess * X + b_guess #prints out an array of guesses of what y will be "
      ],
      "metadata": {
        "colab": {
          "base_uri": "https://localhost:8080/"
        },
        "id": "tESwQt5PSP-B",
        "outputId": "910304a7-a7e4-4a3c-f3d7-6949fcb91811"
      },
      "execution_count": 9,
      "outputs": [
        {
          "output_type": "execute_result",
          "data": {
            "text/plain": [
              "array([0, 0, 0, 0, 0])"
            ]
          },
          "metadata": {},
          "execution_count": 9
        }
      ]
    },
    {
      "cell_type": "code",
      "source": [
        "y_guess = m_guess * X + b_guess #y_guess equals the product of the previous equation  "
      ],
      "metadata": {
        "id": "pBc1ky7rSXxi"
      },
      "execution_count": 12,
      "outputs": []
    },
    {
      "cell_type": "code",
      "source": [
        "y_guess - Y #will print out an array that tells how wrong the guess is compared to the actual value"
      ],
      "metadata": {
        "colab": {
          "base_uri": "https://localhost:8080/"
        },
        "id": "Ng8zcof4Tq9W",
        "outputId": "ebe3d671-1608-4b26-8c15-ae86127a20dc"
      },
      "execution_count": 14,
      "outputs": [
        {
          "output_type": "execute_result",
          "data": {
            "text/plain": [
              "array([-38, -28, -63, -22,  -6])"
            ]
          },
          "metadata": {},
          "execution_count": 14
        }
      ]
    },
    {
      "cell_type": "code",
      "source": [
        "np.sum((y_guess - Y)**2) #prints out the sum of all the data values/ loss function"
      ],
      "metadata": {
        "colab": {
          "base_uri": "https://localhost:8080/"
        },
        "id": "WM_YhuRIT0cH",
        "outputId": "3f12edd1-3d04-49c9-e409-488d28d1b93d"
      },
      "execution_count": 20,
      "outputs": [
        {
          "output_type": "execute_result",
          "data": {
            "text/plain": [
              "6717"
            ]
          },
          "metadata": {},
          "execution_count": 20
        }
      ]
    },
    {
      "cell_type": "code",
      "source": [
        "loss= np.sum((y_guess - Y)**2) #calculates the loss of the guesses "
      ],
      "metadata": {
        "id": "DK3qO4x_Ulg0"
      },
      "execution_count": 24,
      "outputs": []
    },
    {
      "cell_type": "code",
      "source": [
        "best_loss_so_far = 1000000000000 #acts as a placeholder for the guesses \n",
        "m_best = 0\n",
        "b_best = 0\n",
        "\n",
        "for m_guess in np.linspace (-100,100,100): #search through all possible values of m\n",
        "  for b_guess in np.linspace(-100,100,100): #search through all possible values of b\n",
        "\n",
        "    y_guess = m_guess * X + b_guess\n",
        "\n",
        "    loss = np.sum((y_guess - Y)**2) #calculates the new losses of the guesses  \n",
        "    \n",
        "    if loss < best_loss_so_far: #if the new loss value is smaller than the current loss value, the smaller value will replace the current one\n",
        "      m_best = m_guess\n",
        "      b_best = b_guess\n",
        "      best_loss_so_far = loss\n",
        "\n",
        "print(\"Found best fit:\") #will print \"Found better fit:\" when a smaller loss value is found \n",
        "print(m_best,b_best,loss)  #prints out the best guesses and losses \n"
      ],
      "metadata": {
        "colab": {
          "base_uri": "https://localhost:8080/"
        },
        "id": "CAZjY1MlWX5L",
        "outputId": "cc3ac598-bbe0-4a10-b00f-52dce0d9e870"
      },
      "execution_count": 35,
      "outputs": [
        {
          "output_type": "stream",
          "name": "stdout",
          "text": [
            "Found best fit:\n",
            "3.030303030303031 1.0101010101010104 7378517.0\n"
          ]
        }
      ]
    },
    {
      "cell_type": "code",
      "source": [],
      "metadata": {
        "id": "5_DgUJV-crAZ"
      },
      "execution_count": null,
      "outputs": []
    }
  ]
}